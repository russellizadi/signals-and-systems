{
  "nbformat": 4,
  "nbformat_minor": 0,
  "metadata": {
    "colab": {
      "name": "ND-F20-EE-30344-01-HW1-demo.ipynb",
      "provenance": [],
      "collapsed_sections": [],
      "authorship_tag": "ABX9TyNE5XU4aMie4omWVQ40y5OM",
      "include_colab_link": true
    },
    "kernelspec": {
      "name": "python3",
      "display_name": "Python 3"
    }
  },
  "cells": [
    {
      "cell_type": "markdown",
      "metadata": {
        "id": "view-in-github",
        "colab_type": "text"
      },
      "source": [
        "<a href=\"https://colab.research.google.com/github/russellizadi/signals-and-systems/blob/master/colab-notebooks/ND_F20_EE_30344_01_HW1_demo.ipynb\" target=\"_parent\"><img src=\"https://colab.research.google.com/assets/colab-badge.svg\" alt=\"Open In Colab\"/></a>"
      ]
    },
    {
      "cell_type": "markdown",
      "metadata": {
        "id": "xtQiERoEd_dt",
        "colab_type": "text"
      },
      "source": [
        "1. Plot the signals\n",
        "$$x_k[n] = \\sin(\\omega_k n),\\quad \\omega_k=2\\pi k / 5, \\quad k=1,2,4,6, \\quad n=0,1,2,\\ldots,9$$\n",
        "All of the signals should be plotted with separate axes in the same figure using \"subplot\", and be sure to appropriately label the axes of each plot. What is the fundamental period of each signal? How many unique signals have you plotted? If two signals are identical, explain how different values of $\\omega_k$ can yield the same signal.\n",
        "\n",
        "\n"
      ]
    },
    {
      "cell_type": "code",
      "metadata": {
        "id": "NZz6Wr8CebgB",
        "colab_type": "code",
        "colab": {
          "base_uri": "https://localhost:8080/",
          "height": 541
        },
        "outputId": "43130a30-7e54-406f-ab98-6a01f7ac6b21"
      },
      "source": [
        "# you can use:  \n",
        "# numpy for array stuff\n",
        "# matplotlib for plots\n",
        "\n",
        "import numpy as np\n",
        "import matplotlib.pyplot as plt\n",
        "\n",
        "# change the signal function\n",
        "def signal(n, k):\n",
        "    return n + k\n",
        "\n",
        "# change the plots\n",
        "n = np.arange(0, 10)\n",
        "for k in [2, 3]:\n",
        "    plt.stem(n, signal(n, k), use_line_collection=True)\n",
        "    plt.xlabel('$n$')\n",
        "    plt.ylabel(f'$x_{k}$')\n",
        "    plt.show()"
      ],
      "execution_count": null,
      "outputs": [
        {
          "output_type": "display_data",
          "data": {
            "image/png": "[encoded data removed]",
            "text/plain": [
              "<Figure size 432x288 with 1 Axes>"
            ]
          },
          "metadata": {
            "tags": [],
            "needs_background": "light"
          }
        },
        {
          "output_type": "display_data",
          "data": {
            "image/png": "[encoded data removed]",
            "text/plain": [
              "<Figure size 432x288 with 1 Axes>"
            ]
          },
          "metadata": {
            "tags": [],
            "needs_background": "light"
          }
        }
      ]
    },
    {
      "cell_type": "markdown",
      "metadata": {
        "id": "GeZEuAqQeW-J",
        "colab_type": "text"
      },
      "source": [
        "2. Use symbolic math functions to define the function\n",
        "$$f(t)=t(u(t)-u(t-2))$$\n",
        "Plot the signal on the interval $$-5 \\le t \\le +5$$ \n",
        "Compute the energy of the signal using integration.\n",
        "Define the transformed signal $$f(-2t+1)$$ report its symbolic expression, and plot it."
      ]
    },
    {
      "cell_type": "code",
      "metadata": {
        "id": "63oxeKFTW2Fb",
        "colab_type": "code",
        "colab": {
          "base_uri": "https://localhost:8080/",
          "height": 562
        },
        "outputId": "0fabdc85-e74d-4d30-a51c-b62a372bab49"
      },
      "source": [
        "# you can use:  \n",
        "# scipy for more advanced array stuff\n",
        "\n",
        "from scipy import integrate\n",
        "\n",
        "# look up the np.heaviside document on the web\n",
        "# change f function \n",
        "f = lambda t: np.heaviside(t, 1)\n",
        "a, b = -5., 5.\n",
        "\n",
        "# plot\n",
        "t0 = np.linspace(a, b, 100)\n",
        "plt.plot(t0, f(t0))\n",
        "plt.xlabel('$t$')\n",
        "plt.ylabel('$f(t)$')\n",
        "plt.show()\n",
        "\n",
        "# look up the integrate.quad document on the web\n",
        "# find the energy by integrating f**2\n",
        "energy = integrate.quad(lambda t: f(t)**2, a, b)[0]\n",
        "print(f\"signal energy: {energy: .2f}\")\n",
        "\n",
        "# change the transform function\n",
        "g = lambda t: f(2*t)\n",
        "\n",
        "# plot\n",
        "plt.plot(t0, g(t0))\n",
        "plt.xlabel('$t$')\n",
        "plt.ylabel('$f(2t)$')\n",
        "plt.grid()\n",
        "plt.show()"
      ],
      "execution_count": null,
      "outputs": [
        {
          "output_type": "display_data",
          "data": {
            "image/png": "[encoded data removed]",
            "text/plain": [
              "<Figure size 432x288 with 1 Axes>"
            ]
          },
          "metadata": {
            "tags": [],
            "needs_background": "light"
          }
        },
        {
          "output_type": "stream",
          "text": [
            "signal energy:  5.00\n"
          ],
          "name": "stdout"
        },
        {
          "output_type": "display_data",
          "data": {
            "image/png": "[encoded data removed]",
            "text/plain": [
              "<Figure size 432x288 with 1 Axes>"
            ]
          },
          "metadata": {
            "tags": [],
            "needs_background": "light"
          }
        }
      ]
    },
    {
      "cell_type": "code",
      "metadata": {
        "id": "o_YlAypHh7NP",
        "colab_type": "code",
        "colab": {
          "base_uri": "https://localhost:8080/",
          "height": 643
        },
        "outputId": "3196f338-a521-4a37-9d3b-bd27196d2798"
      },
      "source": [
        "# you can use the sympy package for symbolic stuff\n",
        "\n",
        "import sympy\n",
        "\n",
        "t = sympy.symbols('t')\n",
        "f = sympy.Lambda(t, sympy.Heaviside(t))\n",
        "a, b = -5., 5.\n",
        "\n",
        "# change the transform function\n",
        "g = sympy.Lambda(t, f(2*t))\n",
        "print(f\"f(2t) = {g(t)}\")\n",
        "\n",
        "# plot\n",
        "sympy.plot(\n",
        "    f(t), (t, a, b), \n",
        "    xlim=[a, b], \n",
        "    ylim=[a, b],\n",
        "    xlable='$t$', \n",
        "    ylabel='$f(t)$',)\n",
        "plt.show()\n",
        "sympy.plot(\n",
        "    g(t), (t, a, b), \n",
        "    xlim=[a, b], \n",
        "    ylim=[a, b],\n",
        "    xlable='$t$', \n",
        "    ylabel='$f(2t)$',)\n",
        "plt.show()"
      ],
      "execution_count": null,
      "outputs": [
        {
          "output_type": "stream",
          "text": [
            "f(2t) = Heaviside(2*t)\n"
          ],
          "name": "stdout"
        },
        {
          "output_type": "stream",
          "text": [
            "/usr/local/lib/python3.6/dist-packages/sympy/plotting/plot.py:890: MatplotlibDeprecationWarning: \n",
            "The set_smart_bounds function was deprecated in Matplotlib 3.2 and will be removed two minor releases later.\n",
            "  self.ax.spines['left'].set_smart_bounds(True)\n",
            "/usr/local/lib/python3.6/dist-packages/sympy/plotting/plot.py:891: MatplotlibDeprecationWarning: \n",
            "The set_smart_bounds function was deprecated in Matplotlib 3.2 and will be removed two minor releases later.\n",
            "  self.ax.spines['bottom'].set_smart_bounds(False)\n"
          ],
          "name": "stderr"
        },
        {
          "output_type": "display_data",
          "data": {
            "image/png": "[encoded data removed]",
            "text/plain": [
              "<Figure size 432x288 with 1 Axes>"
            ]
          },
          "metadata": {
            "tags": [],
            "needs_background": "light"
          }
        },
        {
          "output_type": "display_data",
          "data": {
            "image/png": "[encoded data removed]",
            "text/plain": [
              "<Figure size 432x288 with 1 Axes>"
            ]
          },
          "metadata": {
            "tags": [],
            "needs_background": "light"
          }
        }
      ]
    }
  ]
}