{
  "nbformat": 4,
  "nbformat_minor": 0,
  "metadata": {
    "colab": {
      "name": "ND-F20-EE-30344-01-HW2.ipynb",
      "provenance": [],
      "authorship_tag": "ABX9TyORFv3pZDtFRDIZn1MoWZvn",
      "include_colab_link": true
    },
    "kernelspec": {
      "name": "python3",
      "display_name": "Python 3"
    }
  },
  "cells": [
    {
      "cell_type": "markdown",
      "metadata": {
        "id": "view-in-github",
        "colab_type": "text"
      },
      "source": [
        "<a href=\"https://colab.research.google.com/github/russellizadi/signals-and-systems/blob/master/colab-notebooks/ND_F20_EE_30344_01_HW2.ipynb\" target=\"_parent\"><img src=\"https://colab.research.google.com/assets/colab-badge.svg\" alt=\"Open In Colab\"/></a>"
      ]
    },
    {
      "cell_type": "code",
      "metadata": {
        "id": "vOsO9ZIQk7zI",
        "colab_type": "code",
        "colab": {}
      },
      "source": [
        "import matplotlib.pyplot as plt\n",
        "import numpy as np\n",
        "import scipy.io\n",
        "from scipy import signal"
      ],
      "execution_count": 2,
      "outputs": []
    },
    {
      "cell_type": "code",
      "metadata": {
        "id": "yDA2KCxElAs3",
        "colab_type": "code",
        "colab": {
          "base_uri": "https://localhost:8080/",
          "height": 803
        },
        "outputId": "d5d507ca-bfef-4518-943c-35670e5e3e6b"
      },
      "source": [
        "def x1(n):\n",
        "    return np.where((0 <= n) & (n <= 4), 1., 0.)\n",
        "\n",
        "def h1(n):\n",
        "    return np.where(n==0, 1., 0.) + \\\n",
        "        np.where(n==1, -1., 0.) + \\\n",
        "        np.where(n==2, 3., 0.) + \\\n",
        "        np.where(n==4, 1., 0.)\n",
        "\n",
        "def h2(n):\n",
        "    return np.where(n==1, 2., 0.) + \\\n",
        "        np.where(n==2, 5., 0.) + \\\n",
        "        np.where(n==3, 4., 0.) + \\\n",
        "        np.where(n==4, -1., 0.)\n",
        "\n",
        "n = np.linspace(0, 7, 8)\n",
        "\n",
        "# a\n",
        "plt.stem(n, x1(n), use_line_collection=True)\n",
        "plt.xlabel(\"n\")\n",
        "plt.ylabel(\"$x_1[n]$\")\n",
        "plt.show()\n",
        "\n",
        "plt.stem(n, h1(n), use_line_collection=True)\n",
        "plt.xlabel(\"n\")\n",
        "plt.ylabel(\"$h_1[n]$\")\n",
        "plt.show()\n",
        "\n",
        "plt.stem(n, h2(n), use_line_collection=True)\n",
        "plt.xlabel(\"n\")\n",
        "plt.ylabel(\"$h_2[n]$\")\n",
        "plt.show()"
      ],
      "execution_count": 13,
      "outputs": [
        {
          "output_type": "display_data",
          "data": {
            "image/png": "[encoded data removed]",
            "text/plain": [
              "<Figure size 432x288 with 1 Axes>"
            ]
          },
          "metadata": {
            "tags": [],
            "needs_background": "light"
          }
        },
        {
          "output_type": "display_data",
          "data": {
            "image/png": "[encoded data removed]",
            "text/plain": [
              "<Figure size 432x288 with 1 Axes>"
            ]
          },
          "metadata": {
            "tags": [],
            "needs_background": "light"
          }
        },
        {
          "output_type": "display_data",
          "data": {
            "image/png": "[encoded data removed]",
            "text/plain": [
              "<Figure size 432x288 with 1 Axes>"
            ]
          },
          "metadata": {
            "tags": [],
            "needs_background": "light"
          }
        }
      ]
    },
    {
      "cell_type": "code",
      "metadata": {
        "id": "6ULDYJhTlqRy",
        "colab_type": "code",
        "colab": {
          "base_uri": "https://localhost:8080/",
          "height": 34
        },
        "outputId": "b5c5c709-cbfc-499f-87a5-39753f692262"
      },
      "source": [
        "# b\n",
        "diff = np.convolve(x1(n), h1(n)) - np.convolve(h1(n), x1(n))\n",
        "print(diff)"
      ],
      "execution_count": 14,
      "outputs": [
        {
          "output_type": "stream",
          "text": [
            "[0. 0. 0. 0. 0. 0. 0. 0. 0. 0. 0. 0. 0. 0. 0.]\n"
          ],
          "name": "stdout"
        }
      ]
    },
    {
      "cell_type": "code",
      "metadata": {
        "id": "BlqHgSuDojAO",
        "colab_type": "code",
        "colab": {
          "base_uri": "https://localhost:8080/",
          "height": 34
        },
        "outputId": "3f36e4c1-c5ec-422d-963e-71212c5b618f"
      },
      "source": [
        "# c\n",
        "y1 = np.convolve(x1(n), h1(n)) + np.convolve(x1(n), h2(n))\n",
        "y2 = np.convolve(x1(n), h1(n)+h2(n))\n",
        "diff = y2 - y1\n",
        "print(diff)"
      ],
      "execution_count": 16,
      "outputs": [
        {
          "output_type": "stream",
          "text": [
            "[0. 0. 0. 0. 0. 0. 0. 0. 0. 0. 0. 0. 0. 0. 0.]\n"
          ],
          "name": "stdout"
        }
      ]
    },
    {
      "cell_type": "code",
      "metadata": {
        "id": "4WlMsHi1pVzm",
        "colab_type": "code",
        "colab": {
          "base_uri": "https://localhost:8080/",
          "height": 34
        },
        "outputId": "e4ad798d-8bc4-43dd-85ff-0dc77f687e49"
      },
      "source": [
        "# d\n",
        "w = np.convolve(x1(n), h1(n))\n",
        "y1 = np.convolve(w, h2(n))\n",
        "\n",
        "h = np.convolve(h1(n), h2(n))\n",
        "y2 = np.convolve(x1(n), h)\n",
        "\n",
        "diff = y2 - y1\n",
        "print(diff)"
      ],
      "execution_count": 18,
      "outputs": [
        {
          "output_type": "stream",
          "text": [
            "[0. 0. 0. 0. 0. 0. 0. 0. 0. 0. 0. 0. 0. 0. 0. 0. 0. 0. 0. 0. 0. 0.]\n"
          ],
          "name": "stdout"
        }
      ]
    }
  ]
}