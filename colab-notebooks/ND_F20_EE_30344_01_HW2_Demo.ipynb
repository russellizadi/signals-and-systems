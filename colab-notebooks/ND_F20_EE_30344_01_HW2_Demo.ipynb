{
  "nbformat": 4,
  "nbformat_minor": 0,
  "metadata": {
    "colab": {
      "name": "ND-F20-EE-30344-01-HW2-Demo.ipynb",
      "provenance": [],
      "collapsed_sections": [],
      "authorship_tag": "ABX9TyOKDjECrMt25UkD5sJlpANA",
      "include_colab_link": true
    },
    "kernelspec": {
      "name": "python3",
      "display_name": "Python 3"
    }
  },
  "cells": [
    {
      "cell_type": "markdown",
      "metadata": {
        "id": "view-in-github",
        "colab_type": "text"
      },
      "source": [
        "<a href=\"https://colab.research.google.com/github/russellizadi/signals-and-systems/blob/master/colab-notebooks/ND_F20_EE_30344_01_HW2_Demo.ipynb\" target=\"_parent\"><img src=\"https://colab.research.google.com/assets/colab-badge.svg\" alt=\"Open In Colab\"/></a>"
      ]
    },
    {
      "cell_type": "code",
      "metadata": {
        "id": "vOsO9ZIQk7zI",
        "colab_type": "code",
        "colab": {}
      },
      "source": [
        "import matplotlib.pyplot as plt\n",
        "import numpy as np\n",
        "import scipy.io\n",
        "from scipy import signal"
      ],
      "execution_count": null,
      "outputs": []
    },
    {
      "cell_type": "code",
      "metadata": {
        "id": "yDA2KCxElAs3",
        "colab_type": "code",
        "colab": {}
      },
      "source": [
        "# change\n",
        "def x1(n):\n",
        "    return np.where((1 <= n) & (n <= 3), 1., 0.)\n",
        "\n",
        "def h1(n):\n",
        "    return np.where(n==0, 1., 0.) + \\\n",
        "        np.where(n==1, -1., 0.) \n",
        "\n",
        "def h2(n):\n",
        "    return np.where(n==1, 2., 0.) + \\\n",
        "        np.where(n==2, 5., 0.)\n",
        "\n",
        "n = np.linspace(0, 7, 8)\n",
        "\n",
        "# a\n",
        "plt.stem(n, x1(n), use_line_collection=True)\n",
        "plt.xlabel(\"n\")\n",
        "plt.ylabel(\"$x_1[n]$\")\n",
        "plt.show()\n",
        "\n",
        "plt.stem(n, h1(n), use_line_collection=True)\n",
        "plt.xlabel(\"n\")\n",
        "plt.ylabel(\"$h_1[n]$\")\n",
        "plt.show()\n",
        "\n",
        "plt.stem(n, h2(n), use_line_collection=True)\n",
        "plt.xlabel(\"n\")\n",
        "plt.ylabel(\"$h_2[n]$\")\n",
        "plt.show()"
      ],
      "execution_count": null,
      "outputs": []
    },
    {
      "cell_type": "code",
      "metadata": {
        "id": "6ULDYJhTlqRy",
        "colab_type": "code",
        "colab": {}
      },
      "source": [
        "# b\n",
        "diff = np.convolve(x1(n), x1(n))\n",
        "print(diff)"
      ],
      "execution_count": null,
      "outputs": []
    },
    {
      "cell_type": "code",
      "metadata": {
        "id": "BlqHgSuDojAO",
        "colab_type": "code",
        "colab": {}
      },
      "source": [
        "# c\n",
        "y1 = \n",
        "y2 = \n",
        "diff = y2 - y1\n",
        "print(diff)"
      ],
      "execution_count": null,
      "outputs": []
    },
    {
      "cell_type": "code",
      "metadata": {
        "id": "4WlMsHi1pVzm",
        "colab_type": "code",
        "colab": {}
      },
      "source": [
        "# d\n",
        "w = \n",
        "y1 = np.convolve(w, h2(n))\n",
        "\n",
        "h = \n",
        "y2 = np.convolve(x1(n), h)\n",
        "\n",
        "diff = y2 - y1\n",
        "print(diff)"
      ],
      "execution_count": null,
      "outputs": []
    }
  ]
}